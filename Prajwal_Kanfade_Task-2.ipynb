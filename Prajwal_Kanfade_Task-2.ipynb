{
 "cells": [
  {
   "cell_type": "markdown",
   "id": "9ea2644c-ab8b-4e2d-a673-ffe25392cba5",
   "metadata": {},
   "source": [
    "# Lists"
   ]
  },
  {
   "cell_type": "markdown",
   "id": "4d3c38d5-1b78-4fd5-9170-1f37942f1f03",
   "metadata": {},
   "source": [
    "### List Of Intergers"
   ]
  },
  {
   "cell_type": "markdown",
   "id": "851a683b-aa01-4a66-b6cf-bc2eb48f1888",
   "metadata": {},
   "source": [
    "* A list containing only integers."
   ]
  },
  {
   "cell_type": "code",
   "execution_count": 53,
   "id": "90d8cd93-88c5-4a7e-b813-556bf97a1c9f",
   "metadata": {},
   "outputs": [
    {
     "name": "stdout",
     "output_type": "stream",
     "text": [
      "[1, 2, 3, 4, 5]\n"
     ]
    }
   ],
   "source": [
    "A1 = [1, 2, 3, 4, 5]\n",
    "print(A1)"
   ]
  },
  {
   "cell_type": "markdown",
   "id": "d4cbfba1-d8c1-47da-b062-f9043c9ae1c5",
   "metadata": {},
   "source": [
    "### List of Strings"
   ]
  },
  {
   "cell_type": "markdown",
   "id": "2c081993-0f15-41c5-aa89-b8b21874b4f6",
   "metadata": {},
   "source": [
    "* A list containing only strings"
   ]
  },
  {
   "cell_type": "code",
   "execution_count": 51,
   "id": "af6c1bbb-78b0-43fa-b0e7-bd6e0bbe9147",
   "metadata": {},
   "outputs": [
    {
     "name": "stdout",
     "output_type": "stream",
     "text": [
      "['apple', 'banana', 'cherry']\n"
     ]
    }
   ],
   "source": [
    "B1 = [\"apple\", \"banana\", \"cherry\"]\n",
    "print(B1)"
   ]
  },
  {
   "cell_type": "markdown",
   "id": "199ffbd3-58a8-4e88-ba9b-26663d737005",
   "metadata": {},
   "source": [
    "### List of Booleans"
   ]
  },
  {
   "cell_type": "markdown",
   "id": "5c980c40-4b23-4419-9ccf-9978e8e1887b",
   "metadata": {},
   "source": [
    "* A list containing only boolean Values"
   ]
  },
  {
   "cell_type": "code",
   "execution_count": 16,
   "id": "1208300d-5ccc-4b42-8a7e-826e8e9bdb79",
   "metadata": {},
   "outputs": [
    {
     "name": "stdout",
     "output_type": "stream",
     "text": [
      "[True, False, True, False]\n"
     ]
    }
   ],
   "source": [
    "C1 = [True, False, True, False]\n",
    "print(C1)"
   ]
  },
  {
   "cell_type": "markdown",
   "id": "047c5c79-1fd8-4dac-a370-e642caf02394",
   "metadata": {},
   "source": [
    "### List of Mixed Data Types"
   ]
  },
  {
   "cell_type": "markdown",
   "id": "a077e3e4-6c27-4f30-88a4-3fe5aa5e04f5",
   "metadata": {},
   "source": [
    "* A list containing integers, strings, booleans, and floats."
   ]
  },
  {
   "cell_type": "code",
   "execution_count": 20,
   "id": "de694ede-b097-4827-ac26-93975864c362",
   "metadata": {},
   "outputs": [
    {
     "name": "stdout",
     "output_type": "stream",
     "text": [
      "[1, 'apple', True, 3.14]\n"
     ]
    }
   ],
   "source": [
    "D1 = [1, \"apple\", True, 3.14]\n",
    "print(D1)"
   ]
  },
  {
   "cell_type": "markdown",
   "id": "e787bbfd-48ae-4948-bf2c-a87938f246e8",
   "metadata": {},
   "source": [
    "### List of Lists"
   ]
  },
  {
   "cell_type": "markdown",
   "id": "248a0e8b-1d23-4961-911e-16bfa1316712",
   "metadata": {},
   "source": [
    "* A list containing other lists as elements"
   ]
  },
  {
   "cell_type": "code",
   "execution_count": 49,
   "id": "fe8a056b-3ba2-4506-9ab8-9be5a7813cc3",
   "metadata": {},
   "outputs": [
    {
     "name": "stdout",
     "output_type": "stream",
     "text": [
      "[[1, 2], ['a', 'b'], [True, False]]\n"
     ]
    }
   ],
   "source": [
    "E1 = [[1, 2], [\"a\", \"b\"], [True, False]]\n",
    "print(E1)"
   ]
  },
  {
   "cell_type": "markdown",
   "id": "927e9553-800b-4d38-bd39-225986114f9b",
   "metadata": {},
   "source": [
    "### Nested List (2D List)"
   ]
  },
  {
   "cell_type": "markdown",
   "id": "c907e240-f72f-4d24-be41-084cdc18557c",
   "metadata": {},
   "source": [
    "* A list that represents a matrix or 2D array."
   ]
  },
  {
   "cell_type": "code",
   "execution_count": 47,
   "id": "321157b2-b512-4df5-9945-0afaaa852ede",
   "metadata": {},
   "outputs": [
    {
     "name": "stdout",
     "output_type": "stream",
     "text": [
      "[[1, 2, 3], [4, 5, 6], [7, 8, 9]]\n"
     ]
    }
   ],
   "source": [
    "F1 = [[1, 2, 3], [4, 5, 6], [7, 8, 9]]\n",
    "print(F1)"
   ]
  },
  {
   "cell_type": "markdown",
   "id": "dd5c30ab-59f5-487f-b3a9-5755375513d1",
   "metadata": {},
   "source": [
    "### List of Tuples"
   ]
  },
  {
   "cell_type": "markdown",
   "id": "1b006fca-cfc5-499c-9b7c-03af28fecce2",
   "metadata": {},
   "source": [
    "* A list containing tuples as elements."
   ]
  },
  {
   "cell_type": "code",
   "execution_count": 36,
   "id": "725154dc-6d74-415e-904f-728c87628c62",
   "metadata": {},
   "outputs": [
    {
     "name": "stdout",
     "output_type": "stream",
     "text": [
      "[(1, 'apple'), (2, 'banana'), (3, 'cherry')]\n"
     ]
    }
   ],
   "source": [
    "G1 = [(1, \"apple\"), (2, \"banana\"), (3, \"cherry\")]\n",
    "print(G1)"
   ]
  },
  {
   "cell_type": "markdown",
   "id": "fb68a770-2980-4a10-916a-aa88d5e536dc",
   "metadata": {},
   "source": [
    "### List of Dictionaries"
   ]
  },
  {
   "cell_type": "markdown",
   "id": "5e16646c-7637-4947-922a-8c3ce24866c6",
   "metadata": {},
   "source": [
    "* A list containing dictionaries as elements."
   ]
  },
  {
   "cell_type": "code",
   "execution_count": 45,
   "id": "5ecc510f-9a49-4b3e-8618-337be73002b5",
   "metadata": {},
   "outputs": [
    {
     "name": "stdout",
     "output_type": "stream",
     "text": [
      "[{'name': 'Alice', 'age': 30}, {'name': 'Bob', 'age': 25}]\n"
     ]
    }
   ],
   "source": [
    "H1 = [{\"name\": \"Alice\", \"age\": 30}, {\"name\": \"Bob\", \"age\": 25}]\n",
    "print(H1)"
   ]
  },
  {
   "cell_type": "markdown",
   "id": "ee498c5d-ffb9-4877-958f-31036ec783c2",
   "metadata": {},
   "source": [
    "### List of Floats"
   ]
  },
  {
   "cell_type": "markdown",
   "id": "3c3af677-7df0-4cac-890d-0d896e528280",
   "metadata": {},
   "source": [
    "* A list containing only floating-point numbers."
   ]
  },
  {
   "cell_type": "code",
   "execution_count": 57,
   "id": "4bff85db-3593-4c3e-a689-573c71fb51de",
   "metadata": {},
   "outputs": [
    {
     "name": "stdout",
     "output_type": "stream",
     "text": [
      "[1.1, 2.2, 3.3, 4.4]\n"
     ]
    }
   ],
   "source": [
    "I1 = [1.1, 2.2, 3.3, 4.4]\n",
    "print(I1)"
   ]
  },
  {
   "cell_type": "markdown",
   "id": "38d7217d-3377-447c-a415-5b1516ca7973",
   "metadata": {},
   "source": [
    "### List of Ranges"
   ]
  },
  {
   "cell_type": "markdown",
   "id": "20e5aaf3-daf5-49ea-84cf-ae666b1e1d15",
   "metadata": {},
   "source": [
    "* A list created using the range() function."
   ]
  },
  {
   "cell_type": "code",
   "execution_count": 69,
   "id": "2fa7f4e0-c22d-4bf6-8bd4-d06b678fab86",
   "metadata": {},
   "outputs": [
    {
     "name": "stdout",
     "output_type": "stream",
     "text": [
      "[0, 1, 2, 3, 4]\n"
     ]
    }
   ],
   "source": [
    "J1 = list(range(5))\n",
    "print(J1)"
   ]
  },
  {
   "cell_type": "markdown",
   "id": "fe3d12db-1323-482b-8a16-409e374f284c",
   "metadata": {},
   "source": [
    "### List of Characters"
   ]
  },
  {
   "cell_type": "markdown",
   "id": "4649f34a-72db-4154-8f01-f650079e0ed9",
   "metadata": {},
   "source": [
    "* A list containing individual characters as strings."
   ]
  },
  {
   "cell_type": "code",
   "execution_count": 71,
   "id": "fd7c75d2-abb5-4185-b8d2-225bbff0140d",
   "metadata": {},
   "outputs": [
    {
     "name": "stdout",
     "output_type": "stream",
     "text": [
      "['a', 'b', 'c', 'd']\n"
     ]
    }
   ],
   "source": [
    "K1 = ['a', 'b', 'c', 'd']\n",
    "print(K1)"
   ]
  },
  {
   "cell_type": "markdown",
   "id": "c045a928-f7d2-4ac4-9551-ac41913fdfe8",
   "metadata": {},
   "source": [
    "### List of Sets"
   ]
  },
  {
   "cell_type": "markdown",
   "id": "7e2c2d41-0f57-4eab-a4a5-000306781c90",
   "metadata": {},
   "source": [
    "* A list containing sets as elements."
   ]
  },
  {
   "cell_type": "code",
   "execution_count": 75,
   "id": "94d0a965-6522-4915-a541-a071df4bec27",
   "metadata": {},
   "outputs": [
    {
     "name": "stdout",
     "output_type": "stream",
     "text": [
      "[{1, 2}, {3, 4}, {5, 6}]\n"
     ]
    }
   ],
   "source": [
    "L1 = [{1, 2}, {3, 4}, {5, 6}]\n",
    "print(L1)"
   ]
  },
  {
   "cell_type": "markdown",
   "id": "b49170de-d613-4ed8-886c-bf54cf5193d7",
   "metadata": {},
   "source": [
    "### List of Boolean Expressions\n"
   ]
  },
  {
   "cell_type": "markdown",
   "id": "8b159b05-3e17-458d-9a0e-0232c0df8dc6",
   "metadata": {},
   "source": [
    "* A list containing boolean expressions (evaluated to True or False)."
   ]
  },
  {
   "cell_type": "code",
   "execution_count": 81,
   "id": "4964a33b-f2ef-460e-a8f9-7f46522cd710",
   "metadata": {},
   "outputs": [
    {
     "name": "stdout",
     "output_type": "stream",
     "text": [
      "[True, True, False]\n"
     ]
    }
   ],
   "source": [
    "M1 = [5 > 3, 2 == 2, 1 < 0]\n",
    "print(M1)"
   ]
  },
  {
   "cell_type": "code",
   "execution_count": 83,
   "id": "e1da19af-21cf-4cab-8685-76e9132b4e15",
   "metadata": {},
   "outputs": [
    {
     "name": "stdout",
     "output_type": "stream",
     "text": [
      "[False, True]\n"
     ]
    }
   ],
   "source": [
    "M2 = [5 < 2 , 2 > 1]\n",
    "print(M2)"
   ]
  },
  {
   "cell_type": "markdown",
   "id": "ff00e717-e79f-40a3-a3ae-47ade05571d2",
   "metadata": {},
   "source": [
    "### List of Even Numbers"
   ]
  },
  {
   "cell_type": "markdown",
   "id": "42b81c1e-5d52-446a-9d83-5b81a9a0565a",
   "metadata": {},
   "source": [
    "* A list containing only even numbers, possibly generated with a comprehension."
   ]
  },
  {
   "cell_type": "code",
   "execution_count": 87,
   "id": "bb035f1d-4e68-4677-a8c1-9404f8167043",
   "metadata": {},
   "outputs": [
    {
     "name": "stdout",
     "output_type": "stream",
     "text": [
      "[0, 2, 4, 6, 8]\n"
     ]
    }
   ],
   "source": [
    "N1 = [x for x in range(10) if x % 2 == 0]\n",
    "print(N1)"
   ]
  },
  {
   "cell_type": "code",
   "execution_count": 99,
   "id": "4860c001-80e2-4001-82b5-c335f7eb4455",
   "metadata": {},
   "outputs": [
    {
     "name": "stdout",
     "output_type": "stream",
     "text": [
      "[0, 4, 8, 12, 16, 20, 24, 28, 32, 36, 40, 44, 48]\n"
     ]
    }
   ],
   "source": [
    "N2 = [x for x in range(50) if x % 4 == 0]\n",
    "print(N2)"
   ]
  },
  {
   "cell_type": "markdown",
   "id": "924a4cf4-75af-469d-92fa-7b5adb02820a",
   "metadata": {},
   "source": [
    "### Using the index() Method"
   ]
  },
  {
   "cell_type": "markdown",
   "id": "f29193df-5cfb-4f30-b3df-53d11173f10d",
   "metadata": {},
   "source": [
    "* The index() method returns the first index at which a given element appears in a list."
   ]
  },
  {
   "cell_type": "code",
   "execution_count": 105,
   "id": "f599876d-6367-4a20-9efe-defd98f6506d",
   "metadata": {},
   "outputs": [
    {
     "name": "stdout",
     "output_type": "stream",
     "text": [
      "1\n"
     ]
    }
   ],
   "source": [
    "P1 = [\"apple\", \"banana\", \"cherry\", \"date\"]\n",
    "P2 = P1.index(\"banana\")\n",
    "print(P2)"
   ]
  },
  {
   "cell_type": "code",
   "execution_count": 107,
   "id": "75da0bed-1a15-4e89-a67f-ec439f185425",
   "metadata": {},
   "outputs": [
    {
     "name": "stdout",
     "output_type": "stream",
     "text": [
      "3\n"
     ]
    }
   ],
   "source": [
    "P1 = [\"apple\", \"banana\", \"cherry\", \"date\"]\n",
    "P2 = P1.index(\"date\")\n",
    "print(P2)"
   ]
  },
  {
   "cell_type": "code",
   "execution_count": null,
   "id": "ca3cb0bc-9b4a-4cfe-be01-5d26fa7f4f07",
   "metadata": {},
   "outputs": [],
   "source": []
  }
 ],
 "metadata": {
  "kernelspec": {
   "display_name": "Python 3 (ipykernel)",
   "language": "python",
   "name": "python3"
  },
  "language_info": {
   "codemirror_mode": {
    "name": "ipython",
    "version": 3
   },
   "file_extension": ".py",
   "mimetype": "text/x-python",
   "name": "python",
   "nbconvert_exporter": "python",
   "pygments_lexer": "ipython3",
   "version": "3.12.4"
  }
 },
 "nbformat": 4,
 "nbformat_minor": 5
}
